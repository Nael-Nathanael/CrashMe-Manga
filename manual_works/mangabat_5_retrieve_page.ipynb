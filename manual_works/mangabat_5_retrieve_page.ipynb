{
 "cells": [
  {
   "cell_type": "code",
   "execution_count": 2,
   "metadata": {
    "collapsed": true
   },
   "outputs": [],
   "source": [
    "page_url = 'https://v15.mkklcdnv6tempv5.com/img/tab_15/02/78/04/be979161/chapter_0/1-o.jpg'"
   ]
  },
  {
   "cell_type": "code",
   "execution_count": 5,
   "outputs": [],
   "source": [
    "import requests\n",
    "\n",
    "headers = {\n",
    "    'referer': 'https://readmangabat.com/',\n",
    "}\n",
    "page = requests.get(page_url, headers=headers)"
   ],
   "metadata": {
    "collapsed": false
   }
  },
  {
   "cell_type": "code",
   "execution_count": 6,
   "outputs": [
    {
     "data": {
      "text/plain": "<Response [200]>"
     },
     "execution_count": 6,
     "metadata": {},
     "output_type": "execute_result"
    }
   ],
   "source": [
    "page"
   ],
   "metadata": {
    "collapsed": false
   }
  },
  {
   "cell_type": "code",
   "execution_count": null,
   "outputs": [],
   "source": [
    "class ProxyGetView(APIView):\n",
    "    def post(self, request, format=None):\n",
    "        url = request.data.get('url')\n",
    "        headers = {\n",
    "            'referer': 'https://readmangabat.com/',\n",
    "        }\n",
    "        response = requests.get(url, headers=headers)\n",
    "        image = response.content\n",
    "        content_type = response.headers['content-type']\n",
    "        return Response(image, content_type=content_type)"
   ],
   "metadata": {
    "collapsed": false
   }
  }
 ],
 "metadata": {
  "kernelspec": {
   "display_name": "Python 3",
   "language": "python",
   "name": "python3"
  },
  "language_info": {
   "codemirror_mode": {
    "name": "ipython",
    "version": 2
   },
   "file_extension": ".py",
   "mimetype": "text/x-python",
   "name": "python",
   "nbconvert_exporter": "python",
   "pygments_lexer": "ipython2",
   "version": "2.7.6"
  }
 },
 "nbformat": 4,
 "nbformat_minor": 0
}
