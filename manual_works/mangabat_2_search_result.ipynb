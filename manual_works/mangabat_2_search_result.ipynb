{
 "cells": [
  {
   "cell_type": "code",
   "execution_count": 6,
   "metadata": {
    "collapsed": true
   },
   "outputs": [],
   "source": [
    "keyword = \"kaizoku\"\n",
    "base_url = 'https://h.mangabat.com/search/manga/'"
   ]
  },
  {
   "cell_type": "code",
   "execution_count": 7,
   "outputs": [
    {
     "name": "stdout",
     "output_type": "stream",
     "text": [
      "\u001B[93mFetching\u001B[0m: https://h.mangabat.com/search/manga/kaizoku\n",
      "\u001B[92mFetched\u001B[0m: https://h.mangabat.com/search/manga/kaizoku\n"
     ]
    }
   ],
   "source": [
    "from source__mangabat.utils import parse_list_from_soup\n",
    "from utils.helper import fetch_until_success\n",
    "\n",
    "soup = fetch_until_success(f\"{base_url}{keyword}\")\n",
    "mangas = parse_list_from_soup(soup)"
   ],
   "metadata": {
    "collapsed": false
   }
  },
  {
   "cell_type": "code",
   "execution_count": 8,
   "outputs": [
    {
     "name": "stdout",
     "output_type": "stream",
     "text": [
      "[\n",
      "  {\n",
      "    \"thumbnail\": \"https://avt.mkklcdnv6temp.com/48/k/16-1583495206.jpg\",\n",
      "    \"title\": \"Princess Ledalia: The Pirate Of The Rose\",\n",
      "    \"url\": \"https://h.mangabat.com/read-hr385510\"\n",
      "  },\n",
      "  {\n",
      "    \"thumbnail\": \"https://avt.mkklcdnv6temp.com/4/y/9-1583480285.jpg\",\n",
      "    \"title\": \"Uchuu Kaizoku Captain Harlock\",\n",
      "    \"url\": \"https://readmangabat.com/read-rt369512\"\n",
      "  },\n",
      "  {\n",
      "    \"thumbnail\": \"https://avt.mkklcdnv6temp.com/41/o/7-1583477847.jpg\",\n",
      "    \"title\": \"Kaizoku to Ningyo\",\n",
      "    \"url\": \"https://readmangabat.com/read-pc367421\"\n",
      "  },\n",
      "  {\n",
      "    \"thumbnail\": \"https://avt.mkklcdnv6temp.com/41/s/5-1583473532.jpg\",\n",
      "    \"title\": \"Kaizoku Game\",\n",
      "    \"url\": \"https://h.mangabat.com/read-br364736\"\n",
      "  },\n",
      "  {\n",
      "    \"thumbnail\": \"https://avt.mkklcdnv6temp.com/39/v/8-1583479699.jpg\",\n",
      "    \"title\": \"Moretsu Uchuu Kaizoku - Abyss of Hyperspace - Akuu no Shinen\",\n",
      "    \"url\": \"https://h.mangabat.com/read-qk369029\"\n",
      "  },\n",
      "  {\n",
      "    \"thumbnail\": \"https://avt.mkklcdnv6temp.com/7/k/13-1583488013.jpg\",\n",
      "    \"title\": \"Kaizoku Hime - Captain Rose no Bouken\",\n",
      "    \"url\": \"https://h.mangabat.com/read-xf375572\"\n",
      "  }\n",
      "]\n"
     ]
    }
   ],
   "source": [
    "from utils.helper import print_json\n",
    "\n",
    "print_json(mangas)"
   ],
   "metadata": {
    "collapsed": false
   }
  }
 ],
 "metadata": {
  "kernelspec": {
   "display_name": "Python 3",
   "language": "python",
   "name": "python3"
  },
  "language_info": {
   "codemirror_mode": {
    "name": "ipython",
    "version": 2
   },
   "file_extension": ".py",
   "mimetype": "text/x-python",
   "name": "python",
   "nbconvert_exporter": "python",
   "pygments_lexer": "ipython2",
   "version": "2.7.6"
  }
 },
 "nbformat": 4,
 "nbformat_minor": 0
}
