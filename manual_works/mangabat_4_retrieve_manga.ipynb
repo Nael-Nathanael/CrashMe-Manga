{
 "cells": [
  {
   "cell_type": "code",
   "execution_count": 1,
   "metadata": {
    "collapsed": true
   },
   "outputs": [],
   "source": [
    "chapter_url = 'https://h.mangabat.com/read-gj385050-chap-0'"
   ]
  },
  {
   "cell_type": "code",
   "execution_count": 2,
   "outputs": [
    {
     "name": "stdout",
     "output_type": "stream",
     "text": [
      "\u001B[93mFetching\u001B[0m: https://h.mangabat.com/read-gj385050-chap-0\n",
      "\u001B[92mFetched\u001B[0m: https://h.mangabat.com/read-gj385050-chap-0\n"
     ]
    }
   ],
   "source": [
    "from utils.helper import fetch_until_success\n",
    "\n",
    "soup = fetch_until_success(chapter_url)"
   ],
   "metadata": {
    "collapsed": false
   }
  },
  {
   "cell_type": "code",
   "execution_count": 3,
   "outputs": [],
   "source": [
    "container_soup = soup.find(\"div\", {\"class\": \"container-chapter-reader\"})"
   ],
   "metadata": {
    "collapsed": false
   }
  },
  {
   "cell_type": "code",
   "execution_count": 4,
   "outputs": [],
   "source": [
    "images_soup = container_soup.find_all(\"img\", recursive=False)"
   ],
   "metadata": {
    "collapsed": false
   }
  },
  {
   "cell_type": "code",
   "execution_count": 5,
   "outputs": [],
   "source": [
    "pages = []"
   ],
   "metadata": {
    "collapsed": false
   }
  },
  {
   "cell_type": "code",
   "execution_count": 6,
   "outputs": [],
   "source": [
    "for image_soup in images_soup:\n",
    "    pages.append(image_soup.attrs.get(\"src\"))"
   ],
   "metadata": {
    "collapsed": false
   }
  },
  {
   "cell_type": "code",
   "execution_count": 7,
   "outputs": [
    {
     "data": {
      "text/plain": "['https://v15.mkklcdnv6tempv5.com/img/tab_15/02/78/04/be979161/chapter_0/1-o.jpg',\n 'https://v15.mkklcdnv6tempv5.com/img/tab_15/02/78/04/be979161/chapter_0/2-o.jpg',\n 'https://v15.mkklcdnv6tempv5.com/img/tab_15/02/78/04/be979161/chapter_0/3-o.jpg',\n 'https://v15.mkklcdnv6tempv5.com/img/tab_15/02/78/04/be979161/chapter_0/4-o.jpg',\n 'https://v15.mkklcdnv6tempv5.com/img/tab_15/02/78/04/be979161/chapter_0/5-o.jpg',\n 'https://v15.mkklcdnv6tempv5.com/img/tab_15/02/78/04/be979161/chapter_0/6-o.jpg',\n 'https://v15.mkklcdnv6tempv5.com/img/tab_15/02/78/04/be979161/chapter_0/7-o.jpg',\n 'https://v15.mkklcdnv6tempv5.com/img/tab_15/02/78/04/be979161/chapter_0/8-o.jpg',\n 'https://v15.mkklcdnv6tempv5.com/img/tab_15/02/78/04/be979161/chapter_0/9-o.jpg',\n 'https://v15.mkklcdnv6tempv5.com/img/tab_15/02/78/04/be979161/chapter_0/10-o.jpg',\n 'https://v15.mkklcdnv6tempv5.com/img/tab_15/02/78/04/be979161/chapter_0/11-o.jpg',\n 'https://v15.mkklcdnv6tempv5.com/img/tab_15/02/78/04/be979161/chapter_0/12-o.jpg',\n 'https://v15.mkklcdnv6tempv5.com/img/tab_15/02/78/04/be979161/chapter_0/13-o.jpg']"
     },
     "execution_count": 7,
     "metadata": {},
     "output_type": "execute_result"
    }
   ],
   "source": [
    "pages"
   ],
   "metadata": {
    "collapsed": false
   }
  },
  {
   "cell_type": "code",
   "execution_count": 7,
   "outputs": [],
   "source": [],
   "metadata": {
    "collapsed": false
   }
  }
 ],
 "metadata": {
  "kernelspec": {
   "display_name": "Python 3",
   "language": "python",
   "name": "python3"
  },
  "language_info": {
   "codemirror_mode": {
    "name": "ipython",
    "version": 2
   },
   "file_extension": ".py",
   "mimetype": "text/x-python",
   "name": "python",
   "nbconvert_exporter": "python",
   "pygments_lexer": "ipython2",
   "version": "2.7.6"
  }
 },
 "nbformat": 4,
 "nbformat_minor": 0
}
